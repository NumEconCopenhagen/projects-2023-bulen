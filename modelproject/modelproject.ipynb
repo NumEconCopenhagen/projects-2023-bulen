{
 "cells": [
  {
   "attachments": {},
   "cell_type": "markdown",
   "metadata": {},
   "source": [
    "# MODELPROJECT - A SIMPLE MODEL OF FERTILITY TRANSITION"
   ]
  },
  {
   "attachments": {},
   "cell_type": "markdown",
   "metadata": {},
   "source": [
    "**This project analysis the fertility model from the article: LONG-TERM DETERMINANTS OF THE DEMOGRAPHIC TRANSITION, 1870-2000 by Fabrice Murtin**"
   ]
  },
  {
   "attachments": {},
   "cell_type": "markdown",
   "metadata": {},
   "source": [
    "Imports:"
   ]
  },
  {
   "cell_type": "code",
   "execution_count": 55,
   "metadata": {},
   "outputs": [],
   "source": [
    "import numpy as np\n",
    "import matplotlib.pyplot as plt\n",
    "import sympy as sm\n",
    "\n",
    "# local modules\n",
    "import modelproject\n",
    "from modelproject import FertilityModel"
   ]
  },
  {
   "attachments": {},
   "cell_type": "markdown",
   "metadata": {},
   "source": [
    "# 1. Model"
   ]
  },
  {
   "attachments": {},
   "cell_type": "markdown",
   "metadata": {},
   "source": [
    "Parents care about lifetime consumption and the total bequest they leave to surviving children in the form of human capital (Parents transfer human capital to their children in exchange for pension during retirement). "
   ]
  },
  {
   "attachments": {},
   "cell_type": "markdown",
   "metadata": {},
   "source": [
    "Parents choose their level of consumption, the number of children, and the educational level of their children. "
   ]
  },
  {
   "attachments": {},
   "cell_type": "markdown",
   "metadata": {},
   "source": [
    "Let $c$ denote parental consumption and $y$ parental income, $s$ the surviving probability of children, $n$ the number of births, and $h$ children human capital. "
   ]
  },
  {
   "attachments": {},
   "cell_type": "markdown",
   "metadata": {},
   "source": [
    "The parents maximize utility:\n",
    "\n",
    "$$\\max_{c,n,h} V = u(c) + \\beta u(snh),$$ \n",
    "\n",
    "$$\\text{s.c. } c + \\phi sn + \\tau esn = y,$$\n",
    "\n",
    "u(.) is the utility function, $\\beta$ weighs the altruistic motive, $\\phi$ is the marginal cost of raising a surviving child, and $\\tau$ is the marginal cost of year of scooling $e$ paid to each surviving child.\n",
    "\n",
    "The production function of human capital has decreasing returns,\n",
    "$$h =(1 + e)^\\eta,  \\eta<1$$"
   ]
  },
  {
   "attachments": {},
   "cell_type": "markdown",
   "metadata": {},
   "source": [
    "From the first-order condition, we get \n",
    "\n",
    "$$\\frac{∂V}{∂n}/\\frac{∂V}{∂e}=\\frac{1+e}{\\eta n}=\\frac{\\phi + \\tau e}{\\tau n}$$ \n",
    "$$<=>$$\n",
    "$$e^* = \\frac{- 1}{1-\\eta} + \\frac{\\eta}{1-\\eta} \\frac{\\phi}{\\tau}$$"
   ]
  },
  {
   "attachments": {},
   "cell_type": "markdown",
   "metadata": {},
   "source": [
    "This links child education $e^*$ to the relative cost of fertility relative to education $\\frac{\\phi}{\\tau}$"
   ]
  },
  {
   "attachments": {},
   "cell_type": "markdown",
   "metadata": {},
   "source": [
    "We make two assumptions:<a id='toc0_'></a>  \n",
    "\n",
    "**A1.** The cost of raising children is the sum of fixed cost and a time cost proportional to parental income, \n",
    "$$\\phi(y) = \\alpha + \\theta y, \\text{ with }\\theta > 0$$\n",
    "\n",
    "**A2.** The relative cost of fertility relative to education $\\frac{\\phi(y)}{\\tau(y)}$ increases with income *y*."
   ]
  },
  {
   "attachments": {},
   "cell_type": "markdown",
   "metadata": {},
   "source": [
    "Fertility is equal to the following expression obtained with a logarithmic utility function:\n",
    "\n",
    "$$n = \\frac{1-\\eta}{(1+1/\\beta)\\theta}\\frac{1}{s}\\left(1+\\frac{1}{\\phi/\\tau-1}\\right)$$\n",
    "\n",
    "showing that fertility is a decreaing function of the child and adult survival probability $s$ and cost of fertility relative to education $\\phi/\\tau$.\n",
    "A log linearization yields:\n",
    "\n",
    "$$\\text{log }n ≈ a - \\text{log}(s) - \\text{log}(\\phi/\\tau)$$\n",
    "\n",
    "where $a$ is a constant."
   ]
  },
  {
   "cell_type": "code",
   "execution_count": 57,
   "metadata": {},
   "outputs": [
    {
     "ename": "AttributeError",
     "evalue": "'FertilityModel' object has no attribute 'e'",
     "output_type": "error",
     "traceback": [
      "\u001b[0;31m---------------------------------------------------------------------------\u001b[0m",
      "\u001b[0;31mAttributeError\u001b[0m                            Traceback (most recent call last)",
      "\u001b[0;32m/var/folders/5s/2bmdz_4n5lb82x4y9zpz5ml00000gn/T/ipykernel_96669/3058319013.py\u001b[0m in \u001b[0;36m<module>\u001b[0;34m\u001b[0m\n\u001b[1;32m      1\u001b[0m \u001b[0mmodel\u001b[0m \u001b[0;34m=\u001b[0m \u001b[0mFertilityModel\u001b[0m\u001b[0;34m(\u001b[0m\u001b[0;34m)\u001b[0m\u001b[0;34m\u001b[0m\u001b[0;34m\u001b[0m\u001b[0m\n\u001b[0;32m----> 2\u001b[0;31m \u001b[0mprint\u001b[0m\u001b[0;34m(\u001b[0m\u001b[0mmodel\u001b[0m\u001b[0;34m.\u001b[0m\u001b[0mV\u001b[0m\u001b[0;34m(\u001b[0m\u001b[0;34m(\u001b[0m\u001b[0;36m1\u001b[0m\u001b[0;34m,\u001b[0m \u001b[0;36m0.9\u001b[0m\u001b[0;34m,\u001b[0m \u001b[0;36m100\u001b[0m\u001b[0;34m)\u001b[0m\u001b[0;34m)\u001b[0m\u001b[0;34m)\u001b[0m\u001b[0;34m\u001b[0m\u001b[0;34m\u001b[0m\u001b[0m\n\u001b[0m",
      "\u001b[0;32m~/Desktop/IntroProg/Modelproject/projects-2023-bulen/modelproject/modelproject.py\u001b[0m in \u001b[0;36mV\u001b[0;34m(self, args)\u001b[0m\n\u001b[1;32m     60\u001b[0m     \u001b[0mpar\u001b[0m \u001b[0;34m=\u001b[0m \u001b[0mself\u001b[0m\u001b[0;34m.\u001b[0m\u001b[0mpar\u001b[0m\u001b[0;34m\u001b[0m\u001b[0;34m\u001b[0m\u001b[0m\n\u001b[1;32m     61\u001b[0m \u001b[0;34m\u001b[0m\u001b[0m\n\u001b[0;32m---> 62\u001b[0;31m     \u001b[0mc\u001b[0m\u001b[0;34m,\u001b[0m \u001b[0ms\u001b[0m\u001b[0;34m,\u001b[0m \u001b[0my\u001b[0m \u001b[0;34m=\u001b[0m \u001b[0margs\u001b[0m\u001b[0;34m\u001b[0m\u001b[0;34m\u001b[0m\u001b[0m\n\u001b[0m\u001b[1;32m     63\u001b[0m     \u001b[0;32mreturn\u001b[0m \u001b[0;34m-\u001b[0m\u001b[0;36m1\u001b[0m\u001b[0;34m*\u001b[0m\u001b[0;34m(\u001b[0m\u001b[0mself\u001b[0m\u001b[0;34m.\u001b[0m\u001b[0mu\u001b[0m\u001b[0;34m(\u001b[0m\u001b[0mc\u001b[0m\u001b[0;34m)\u001b[0m \u001b[0;34m+\u001b[0m \u001b[0mpar\u001b[0m\u001b[0;34m.\u001b[0m\u001b[0mbeta\u001b[0m\u001b[0;34m*\u001b[0m\u001b[0mself\u001b[0m\u001b[0;34m.\u001b[0m\u001b[0mu\u001b[0m\u001b[0;34m(\u001b[0m\u001b[0ms\u001b[0m\u001b[0;34m*\u001b[0m\u001b[0mself\u001b[0m\u001b[0;34m.\u001b[0m\u001b[0mn\u001b[0m\u001b[0;34m(\u001b[0m\u001b[0ms\u001b[0m\u001b[0;34m,\u001b[0m \u001b[0my\u001b[0m\u001b[0;34m)\u001b[0m\u001b[0;34m*\u001b[0m\u001b[0mself\u001b[0m\u001b[0;34m.\u001b[0m\u001b[0mh\u001b[0m\u001b[0;34m(\u001b[0m\u001b[0mpar\u001b[0m\u001b[0;34m.\u001b[0m\u001b[0me\u001b[0m\u001b[0;34m)\u001b[0m\u001b[0;34m)\u001b[0m\u001b[0;34m)\u001b[0m\u001b[0;34m\u001b[0m\u001b[0;34m\u001b[0m\u001b[0m\n\u001b[1;32m     64\u001b[0m \u001b[0;34m\u001b[0m\u001b[0m\n",
      "\u001b[0;31mAttributeError\u001b[0m: 'FertilityModel' object has no attribute 'e'"
     ]
    }
   ],
   "source": [
    "model = FertilityModel()\n",
    "print(model.V((1, 0.9, 100)))"
   ]
  },
  {
   "attachments": {},
   "cell_type": "markdown",
   "metadata": {},
   "source": [
    "# 2. Extension of the model"
   ]
  },
  {
   "attachments": {},
   "cell_type": "markdown",
   "metadata": {},
   "source": [
    "In the original model, we assumed that the cost of raising children is the sum of a fixed cost and a time cost proportional to parental income, and that the relative cost of fertility relative to education increases with income. \n",
    "\n",
    "**The government** wants to encourage families to invest more in the education and well-being of each child rather than having more children. So the government **introduces a tax** on children after the second child.\n",
    "\n",
    "The impact of such a tax on fertility rates and parental consumption could be analyzed using the existing model framework."
   ]
  },
  {
   "attachments": {},
   "cell_type": "markdown",
   "metadata": {},
   "source": [
    "To include the tax on children after the second child, we can modify the budget constraint as follows:\n",
    "\n",
    "$$c + \\phi sn + \\tau_1 es + \\tau_2 es \\sum_{i=3}^n i=y,$$\n",
    "\n",
    "where $\\tau_1$ is the cost of schooling for the first two children and $\\tau_2$ is the additional cost of schooling for each child after the second.\n",
    "\n",
    "The first two children still have the cost of schooling $\\tau_1$, but the cost of schooling for the third child is $\\tau_1 + \\tau_2$, for the fourth child it is $\\tau_1 + 2\\tau_2$, and so on. We sum the additional cost of schooling for the third child and above using $\\sum_{i=3}^n i$.\n",
    "\n",
    "With this modification, the first-order condition becomes:\n",
    "\n",
    "$$\\frac{1+e}{\\eta n}=\\frac{\\tau_2 es}{\\tau_1}\\sum_{i=3}^n i$$\n",
    "\n",
    "which can be solved for $e$ to obtain:\n",
    "​\n",
    "$$e** = \\frac{-1}{1-\\eta} + \\frac{\\eta}{1-\\eta}\\frac{\\phi s}{\\tau_1 + \\tau_2 s\\sum_{i=3}^n i}$$\n",
    "\n",
    "Then, using a logarithmic utility function and log-linearizing the fertility expression, we obtain:\n",
    "\n",
    "$$log n ≈ a - log(s) - log(\\frac{\\phi}{\\tau_1} + \\tau_2 s \\sum_{i=3}^n i)$$\n",
    "\n",
    "where $a$ is a constant."
   ]
  },
  {
   "attachments": {},
   "cell_type": "markdown",
   "metadata": {},
   "source": [
    "We want to use numerical optimization methods to search for the tax rate that minimizes the welfare cost subject to the constraint. Afterwards we will compare the results of different optimization methods and make a sensitivity analysis to explore the robustness of the findings to different assumptions and parameter values."
   ]
  },
  {
   "cell_type": "markdown",
   "metadata": {},
   "source": [
    "## Analytical solution"
   ]
  },
  {
   "cell_type": "markdown",
   "metadata": {},
   "source": [
    "If your model allows for an analytical solution, you should provide here.\n",
    "\n",
    "You may use Sympy for this. Then you can characterize the solution as a function of a parameter of the model.\n",
    "\n",
    "To characterize the solution, first derive a steady state equation as a function of a parameter using Sympy.solve and then turn it into a python function by Sympy.lambdify. See the lecture notes for details. "
   ]
  },
  {
   "cell_type": "markdown",
   "metadata": {},
   "source": [
    "## Numerical solution"
   ]
  },
  {
   "cell_type": "markdown",
   "metadata": {},
   "source": [
    "You can always solve a model numerically. \n",
    "\n",
    "Define first the set of parameters you need. \n",
    "\n",
    "Then choose one of the optimization algorithms that we have gone through in the lectures based on what you think is most fitting for your model.\n",
    "\n",
    "Are there any problems with convergence? Does the model converge for all starting values? Make a lot of testing to figure these things out. "
   ]
  },
  {
   "cell_type": "markdown",
   "metadata": {},
   "source": [
    "# Further analysis"
   ]
  },
  {
   "cell_type": "markdown",
   "metadata": {},
   "source": [
    "Make detailed vizualizations of how your model changes with parameter values. \n",
    "\n",
    "Try to make an extension of the model. "
   ]
  },
  {
   "cell_type": "markdown",
   "metadata": {},
   "source": [
    "# Conclusion"
   ]
  },
  {
   "cell_type": "markdown",
   "metadata": {},
   "source": [
    "Add concise conclusion. "
   ]
  }
 ],
 "metadata": {
  "kernelspec": {
   "display_name": "base",
   "language": "python",
   "name": "python3"
  },
  "language_info": {
   "codemirror_mode": {
    "name": "ipython",
    "version": 3
   },
   "file_extension": ".py",
   "mimetype": "text/x-python",
   "name": "python",
   "nbconvert_exporter": "python",
   "pygments_lexer": "ipython3",
   "version": "3.9.13"
  },
  "toc-autonumbering": true,
  "vscode": {
   "interpreter": {
    "hash": "40d3a090f54c6569ab1632332b64b2c03c39dcf918b08424e98f38b5ae0af88f"
   }
  }
 },
 "nbformat": 4,
 "nbformat_minor": 4
}
