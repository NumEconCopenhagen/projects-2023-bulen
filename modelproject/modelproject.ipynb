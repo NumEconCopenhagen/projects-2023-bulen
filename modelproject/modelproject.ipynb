{
 "cells": [
  {
   "attachments": {},
   "cell_type": "markdown",
   "metadata": {},
   "source": [
    "# MODELPROJECT - A SIMPLE MODEL OF FERTILITY TRANSITION"
   ]
  },
  {
   "attachments": {},
   "cell_type": "markdown",
   "metadata": {},
   "source": [
    "**This project analysis the fertility model from the article: LONG-TERM DETERMINANTS OF THE DEMOGRAPHIC TRANSITION, 1870-2000 by Fabrice Murtin**"
   ]
  },
  {
   "attachments": {},
   "cell_type": "markdown",
   "metadata": {},
   "source": [
    "Imports:"
   ]
  },
  {
   "cell_type": "code",
   "execution_count": 1,
   "metadata": {},
   "outputs": [],
   "source": [
    "import numpy as np\n",
    "import matplotlib.pyplot as plt\n",
    "import sympy as sm\n",
    "\n",
    "# local modules\n",
    "import modelproject\n",
    "from modelproject import FertilityModel"
   ]
  },
  {
   "attachments": {},
   "cell_type": "markdown",
   "metadata": {},
   "source": [
    "# 1. Model"
   ]
  },
  {
   "attachments": {},
   "cell_type": "markdown",
   "metadata": {},
   "source": [
    "Parents care about lifetime consumption and the total bequest they leave to surviving children in the form of human capital (Parents transfer human capital to their children in exchange for pension during retirement). "
   ]
  },
  {
   "attachments": {},
   "cell_type": "markdown",
   "metadata": {},
   "source": [
    "Parents choose their level of consumption, the number of children, and the educational level of their children. "
   ]
  },
  {
   "attachments": {},
   "cell_type": "markdown",
   "metadata": {},
   "source": [
    "Let $c$ denote parental consumption and $y$ parental income, $s$ the surviving probability of children, $n$ the number of births, and $h$ children human capital. "
   ]
  },
  {
   "attachments": {},
   "cell_type": "markdown",
   "metadata": {},
   "source": [
    "The parents maximize utility:\n",
    "\n",
    "$$\\max_{c,n,h} V = u(c) + \\beta u(snh),$$ \n",
    "\n",
    "$$\\text{s.c. } c + \\phi sn + \\tau esn = y,$$\n",
    "\n",
    "u(.) is the utility function, $\\beta$ weighs the altruistic motive, $\\phi$ is the marginal cost of raising a surviving child, and $\\tau$ is the marginal cost of year of scooling $e$ paid to each surviving child.\n",
    "\n",
    "The production function of human capital has decreasing returns,\n",
    "$$h =(1 + e)^\\eta,  \\eta<1$$"
   ]
  },
  {
   "attachments": {},
   "cell_type": "markdown",
   "metadata": {},
   "source": [
    "From the first-order condition, we get \n",
    "\n",
    "$$\\frac{∂V}{∂n}/\\frac{∂V}{∂e}=\\frac{1+e}{\\eta n}=\\frac{\\phi + \\tau e}{\\tau n}$$ \n",
    "$$<=>$$\n",
    "$$e^* = \\frac{- 1}{1-\\eta} + \\frac{\\eta}{1-\\eta} \\frac{\\phi}{\\tau}$$"
   ]
  },
  {
   "attachments": {},
   "cell_type": "markdown",
   "metadata": {},
   "source": [
    "This links child education $e^*$ to the relative cost of fertility relative to education $\\frac{\\phi}{\\tau}$"
   ]
  },
  {
   "attachments": {},
   "cell_type": "markdown",
   "metadata": {},
   "source": [
    "We make two assumptions:<a id='toc0_'></a>  \n",
    "\n",
    "**A1.** The cost of raising children is the sum of fixed cost and a time cost proportional to parental income, \n",
    "$$\\phi(y) = \\alpha + \\theta y, \\text{ with }\\theta > 0$$\n",
    "\n",
    "**A2.** The relative cost of fertility relative to education $\\frac{\\phi(y)}{\\tau(y)}$ increases with income *y*."
   ]
  },
  {
   "attachments": {},
   "cell_type": "markdown",
   "metadata": {},
   "source": [
    "Fertility is equal to the following expression obtained with a logarithmic utility function:\n",
    "\n",
    "$$n = \\frac{1-\\eta}{(1+1/\\beta)\\theta}\\frac{1}{s}\\left(1+\\frac{1}{\\phi/\\tau-1}\\right)$$\n",
    "\n",
    "showing that fertility is a decreaing function of the child and adult survival probability $s$ and cost of fertility relative to education $\\phi/\\tau$.\n",
    "A log linearization yields:\n",
    "\n",
    "$$\\text{log }n ≈ a - \\text{log}(s) - \\text{log}(\\phi/\\tau)$$\n",
    "\n",
    "where $a$ is a constant."
   ]
  },
  {
   "cell_type": "code",
   "execution_count": 22,
   "metadata": {},
   "outputs": [],
   "source": [
    "# dev block\n",
    "\"\"\"\n",
    "  A simple model of fertility transition based on income and education levels.\n",
    "\"\"\"\n",
    "from types import SimpleNamespace\n",
    "import numpy as np\n",
    "from scipy.optimize import minimize_scalar\n",
    "\n",
    "class FertilityModel():\n",
    "\n",
    "    def __init__(self):\n",
    "        par = self.par = SimpleNamespace()\n",
    "\n",
    "        # Utility function parameters\n",
    "        par.beta = 0.95 # Altruistic motives\n",
    "        par.eta = 0.5 # Decreasing returns to education\n",
    "        par.alpha = 0.1 # The fixed cost of raising a child\n",
    "        par.rho = 1.5 # Relative risk aversion\n",
    "        par.tau = 1 # tmp value\n",
    "        par.phi = 1 # tmp value\n",
    "        #lambda y: 0.1*y # The marginal cost of each year of schooling\n",
    "        \n",
    "        par.theta = 0.1 # The time cost proportional to parental income\n",
    "        par.a = 10 # A constant representing the maximum number of children over a lifetime\n",
    "        par.gamma = 0.5 # Tax on having more than two children\n",
    "\n",
    "        # Define e* after other par initialized\n",
    "        par.e = -(1/(1-par.eta))+(par.eta/(1-par.eta))*(par.phi/par.tau) # value for e based on parametrization.\n",
    "    \n",
    "    # Update functions for varying paramaters\n",
    "    def u_phi(self, y):\n",
    "        par = self.par\n",
    "        par.phi = par.alpha + par.theta*y\n",
    "        return # return just tells the function to terminate, but the update is made in the par property.\n",
    "\n",
    "    \n",
    "    # Define the utility function with CRRA\n",
    "    def u(self,c): # note to self: c is just a placeholder for whatever vakue we give it.\n",
    "        \n",
    "        par = self.par\n",
    "        \n",
    "        if par.rho == 1:\n",
    "            return np.log(c)\n",
    "        else:\n",
    "            return (c**(1-par.rho))/(1-par.rho)\n",
    "        \n",
    "    def V(self,c,s,y):\n",
    "        par = self.par\n",
    "        snh = s*self.n(s, y)*self.h()\n",
    "        return -1*(self.u(c) + par.beta*self.u(snh))\n"
   ]
  },
  {
   "cell_type": "code",
   "execution_count": 23,
   "metadata": {},
   "outputs": [],
   "source": [
    "model = FertilityModel()\n",
    "# print(model.V((1, 0.9, 100)))"
   ]
  },
  {
   "cell_type": "code",
   "execution_count": 24,
   "metadata": {},
   "outputs": [
    {
     "data": {
      "text/plain": [
       "namespace(beta=0.95,\n",
       "          eta=0.5,\n",
       "          alpha=0.1,\n",
       "          rho=1.5,\n",
       "          tau=1,\n",
       "          phi=1,\n",
       "          theta=0.1,\n",
       "          a=10,\n",
       "          gamma=0.5,\n",
       "          e=-1.0)"
      ]
     },
     "execution_count": 24,
     "metadata": {},
     "output_type": "execute_result"
    }
   ],
   "source": [
    "model.par"
   ]
  },
  {
   "cell_type": "code",
   "execution_count": 9,
   "metadata": {},
   "outputs": [
    {
     "name": "stdout",
     "output_type": "stream",
     "text": [
      "namespace(beta=0.95, eta=0.5, alpha=0.1, rho=1.5, tau=1, phi=1.1, theta=0.1, a=10, gamma=0.5, e=-1.0)\n"
     ]
    }
   ],
   "source": [
    "model.u_phi(10)\n",
    "# print(model.par)"
   ]
  },
  {
   "cell_type": "code",
   "execution_count": 16,
   "metadata": {},
   "outputs": [],
   "source": [
    "model.par.rho = 1.5"
   ]
  },
  {
   "cell_type": "code",
   "execution_count": 25,
   "metadata": {},
   "outputs": [
    {
     "data": {
      "text/plain": [
       "(-2.0, -2.0)"
      ]
     },
     "execution_count": 25,
     "metadata": {},
     "output_type": "execute_result"
    }
   ],
   "source": [
    "model.u(1), model.V(1,1,1)"
   ]
  },
  {
   "cell_type": "code",
   "execution_count": 15,
   "metadata": {},
   "outputs": [
    {
     "data": {
      "text/plain": [
       "(0.0, 2.302585092994046)"
      ]
     },
     "execution_count": 15,
     "metadata": {},
     "output_type": "execute_result"
    }
   ],
   "source": [
    "np.log(1), np.log(10)"
   ]
  },
  {
   "attachments": {},
   "cell_type": "markdown",
   "metadata": {},
   "source": [
    "# 2. Extension of the model"
   ]
  },
  {
   "attachments": {},
   "cell_type": "markdown",
   "metadata": {},
   "source": [
    "In the original model, we assumed that the cost of raising children is the sum of a fixed cost and a time cost proportional to parental income, and that the relative cost of fertility relative to education increases with income. \n",
    "\n",
    "**The government** wants to encourage families to invest more in the education and well-being of each child rather than having more children. So the government **introduces a tax** on children after the second child.\n",
    "\n",
    "The impact of such a tax on fertility rates and parental consumption could be analyzed using the existing model framework."
   ]
  },
  {
   "attachments": {},
   "cell_type": "markdown",
   "metadata": {},
   "source": [
    "To include the tax on children after the second child, we can modify the budget constraint as follows:\n",
    "\n",
    "$$c + \\phi sn + \\tau_1 es + \\tau_2 es \\sum_{i=3}^n i=y,$$\n",
    "\n",
    "where $\\tau_1$ is the cost of schooling for the first two children and $\\tau_2$ is the additional cost of schooling for each child after the second.\n",
    "\n",
    "The first two children still have the cost of schooling $\\tau_1$, but the cost of schooling for the third child is $\\tau_1 + \\tau_2$, for the fourth child it is $\\tau_1 + 2\\tau_2$, and so on. We sum the additional cost of schooling for the third child and above using $\\sum_{i=3}^n i$.\n",
    "\n",
    "With this modification, the first-order condition becomes:\n",
    "\n",
    "$$\\frac{1+e}{\\eta n}=\\frac{\\tau_2 es}{\\tau_1}\\sum_{i=3}^n i$$\n",
    "\n",
    "which can be solved for $e$ to obtain:\n",
    "​\n",
    "$$e** = \\frac{-1}{1-\\eta} + \\frac{\\eta}{1-\\eta}\\frac{\\phi s}{\\tau_1 + \\tau_2 s\\sum_{i=3}^n i}$$\n",
    "\n",
    "Then, using a logarithmic utility function and log-linearizing the fertility expression, we obtain:\n",
    "\n",
    "$$log n ≈ a - log(s) - log(\\frac{\\phi}{\\tau_1} + \\tau_2 s \\sum_{i=3}^n i)$$\n",
    "\n",
    "where $a$ is a constant."
   ]
  },
  {
   "attachments": {},
   "cell_type": "markdown",
   "metadata": {},
   "source": [
    "We want to use numerical optimization methods to search for the tax rate that minimizes the welfare cost subject to the constraint. Afterwards we will compare the results of different optimization methods and make a sensitivity analysis to explore the robustness of the findings to different assumptions and parameter values."
   ]
  },
  {
   "cell_type": "markdown",
   "metadata": {},
   "source": [
    "## Analytical solution"
   ]
  },
  {
   "cell_type": "markdown",
   "metadata": {},
   "source": [
    "If your model allows for an analytical solution, you should provide here.\n",
    "\n",
    "You may use Sympy for this. Then you can characterize the solution as a function of a parameter of the model.\n",
    "\n",
    "To characterize the solution, first derive a steady state equation as a function of a parameter using Sympy.solve and then turn it into a python function by Sympy.lambdify. See the lecture notes for details. "
   ]
  },
  {
   "cell_type": "markdown",
   "metadata": {},
   "source": [
    "## Numerical solution"
   ]
  },
  {
   "cell_type": "markdown",
   "metadata": {},
   "source": [
    "You can always solve a model numerically. \n",
    "\n",
    "Define first the set of parameters you need. \n",
    "\n",
    "Then choose one of the optimization algorithms that we have gone through in the lectures based on what you think is most fitting for your model.\n",
    "\n",
    "Are there any problems with convergence? Does the model converge for all starting values? Make a lot of testing to figure these things out. "
   ]
  },
  {
   "cell_type": "markdown",
   "metadata": {},
   "source": [
    "# Further analysis"
   ]
  },
  {
   "cell_type": "markdown",
   "metadata": {},
   "source": [
    "Make detailed vizualizations of how your model changes with parameter values. \n",
    "\n",
    "Try to make an extension of the model. "
   ]
  },
  {
   "cell_type": "markdown",
   "metadata": {},
   "source": [
    "# Conclusion"
   ]
  },
  {
   "cell_type": "markdown",
   "metadata": {},
   "source": [
    "Add concise conclusion. "
   ]
  }
 ],
 "metadata": {
  "kernelspec": {
   "display_name": "base",
   "language": "python",
   "name": "python3"
  },
  "language_info": {
   "codemirror_mode": {
    "name": "ipython",
    "version": 3
   },
   "file_extension": ".py",
   "mimetype": "text/x-python",
   "name": "python",
   "nbconvert_exporter": "python",
   "pygments_lexer": "ipython3",
   "version": "3.9.13"
  },
  "toc-autonumbering": true,
  "vscode": {
   "interpreter": {
    "hash": "40d3a090f54c6569ab1632332b64b2c03c39dcf918b08424e98f38b5ae0af88f"
   }
  }
 },
 "nbformat": 4,
 "nbformat_minor": 4
}
