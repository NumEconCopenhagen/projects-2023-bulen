{
 "cells": [
  {
   "cell_type": "markdown",
   "metadata": {},
   "source": [
    "# Inaugural Project"
   ]
  },
  {
   "attachments": {},
   "cell_type": "markdown",
   "metadata": {},
   "source": [
    "> **Note the following:** \n",
    "> 1. This is an example of how to structure your **inaugural project**.\n",
    "> 1. Remember the general advice on structuring and commenting your code\n",
    "> 1. The `inauguralproject.py` file includes a function which can be used multiple times in this notebook."
   ]
  },
  {
   "cell_type": "markdown",
   "metadata": {},
   "source": [
    "Imports and set magics:"
   ]
  },
  {
   "cell_type": "code",
   "execution_count": 1,
   "metadata": {},
   "outputs": [],
   "source": [
    "import seaborn as sns\n",
    "import numpy as np\n",
    "import pandas as pd\n",
    "import ipywidgets as widgets\n",
    "import matplotlib.pyplot as plt\n",
    "import itertools\n",
    "from tabulate import tabulate\n",
    "\n",
    "# autoreload modules when code is run. Otherwise, python will not see recent changes. \n",
    "%load_ext autoreload\n",
    "%autoreload 2\n",
    "\n",
    "# Import your own code\n",
    "import inauguralproject\n",
    "from inauguralproject import HouseholdSpecializationModelClass\n"
   ]
  },
  {
   "cell_type": "markdown",
   "metadata": {},
   "source": [
    "# Question 1"
   ]
  },
  {
   "cell_type": "markdown",
   "metadata": {},
   "source": [
    "**Explain how you solve the model**"
   ]
  },
  {
   "cell_type": "code",
   "execution_count": 2,
   "metadata": {},
   "outputs": [
    {
     "name": "stdout",
     "output_type": "stream",
     "text": [
      "[0.5454545454545454, 1.0, 1.8333333333333333, 0.3076923076923077, 1.0, 3.25, 0.21428571428571427, 1.0, 4.666666666666667]\n"
     ]
    }
   ],
   "source": [
    "# a. Solving the model\n",
    "\n",
    "OurModel = HouseholdSpecializationModelClass()\n",
    "\n",
    "arsigma=np.array([0.5,1,1.5]) \n",
    "\n",
    "aralpha=np.array([0.25,0.5,0.75])\n",
    "\n",
    "result2=[]\n",
    "for k,v in itertools.product(arsigma,aralpha): #for all combinations in the two arrays\n",
    "    OurModel.par.sigma=k #values from the first array is used as sigma parameters in the model\n",
    "    OurModel.par.alpha=v #values from second array used as alpha parameters\n",
    "    temp=OurModel.solve_discrete() #naming the solution function\n",
    "    result2.append(temp.g) #appending the solutions of the variable \"g\"(HF/HM) to the empty list \"result2\"\n",
    "\n",
    "print(result2)\n",
    "\n",
    "\n",
    "\n"
   ]
  },
  {
   "cell_type": "code",
   "execution_count": 3,
   "metadata": {},
   "outputs": [
    {
     "data": {
      "text/html": [
       "<style type=\"text/css\">\n",
       "#T_69c00_row0_col0 {\n",
       "  background-color: #dedff4;\n",
       "  color: #000000;\n",
       "}\n",
       "#T_69c00_row0_col1, #T_69c00_row1_col1, #T_69c00_row2_col1 {\n",
       "  background-color: #c6c6f5;\n",
       "  color: #000000;\n",
       "}\n",
       "#T_69c00_row0_col2 {\n",
       "  background-color: #9999f7;\n",
       "  color: #f1f1f1;\n",
       "}\n",
       "#T_69c00_row1_col0 {\n",
       "  background-color: #ececf3;\n",
       "  color: #000000;\n",
       "}\n",
       "#T_69c00_row1_col2 {\n",
       "  background-color: #4c4cfb;\n",
       "  color: #f1f1f1;\n",
       "}\n",
       "#T_69c00_row2_col0 {\n",
       "  background-color: #f0f0f3;\n",
       "  color: #000000;\n",
       "}\n",
       "#T_69c00_row2_col2 {\n",
       "  background-color: #0000ff;\n",
       "  color: #f1f1f1;\n",
       "}\n",
       "</style>\n",
       "<table id=\"T_69c00\">\n",
       "  <caption>Table 0: values of HF/HM for certain parameter value combinations</caption>\n",
       "  <thead>\n",
       "    <tr>\n",
       "      <th class=\"blank\" >&nbsp;</th>\n",
       "      <th class=\"blank level0\" >&nbsp;</th>\n",
       "      <th id=\"T_69c00_level0_col0\" class=\"col_heading level0 col0\" colspan=\"3\">alpha</th>\n",
       "    </tr>\n",
       "    <tr>\n",
       "      <th class=\"blank\" >&nbsp;</th>\n",
       "      <th class=\"blank level1\" >&nbsp;</th>\n",
       "      <th id=\"T_69c00_level1_col0\" class=\"col_heading level1 col0\" >0.25</th>\n",
       "      <th id=\"T_69c00_level1_col1\" class=\"col_heading level1 col1\" >0.50</th>\n",
       "      <th id=\"T_69c00_level1_col2\" class=\"col_heading level1 col2\" >0.75</th>\n",
       "    </tr>\n",
       "  </thead>\n",
       "  <tbody>\n",
       "    <tr>\n",
       "      <th id=\"T_69c00_level0_row0\" class=\"row_heading level0 row0\" rowspan=\"3\">sigma</th>\n",
       "      <th id=\"T_69c00_level1_row0\" class=\"row_heading level1 row0\" >0.50</th>\n",
       "      <td id=\"T_69c00_row0_col0\" class=\"data row0 col0\" >0.5455</td>\n",
       "      <td id=\"T_69c00_row0_col1\" class=\"data row0 col1\" >1.0000</td>\n",
       "      <td id=\"T_69c00_row0_col2\" class=\"data row0 col2\" >1.8333</td>\n",
       "    </tr>\n",
       "    <tr>\n",
       "      <th id=\"T_69c00_level1_row1\" class=\"row_heading level1 row1\" >1.00</th>\n",
       "      <td id=\"T_69c00_row1_col0\" class=\"data row1 col0\" >0.3077</td>\n",
       "      <td id=\"T_69c00_row1_col1\" class=\"data row1 col1\" >1.0000</td>\n",
       "      <td id=\"T_69c00_row1_col2\" class=\"data row1 col2\" >3.2500</td>\n",
       "    </tr>\n",
       "    <tr>\n",
       "      <th id=\"T_69c00_level1_row2\" class=\"row_heading level1 row2\" >1.50</th>\n",
       "      <td id=\"T_69c00_row2_col0\" class=\"data row2 col0\" >0.2143</td>\n",
       "      <td id=\"T_69c00_row2_col1\" class=\"data row2 col1\" >1.0000</td>\n",
       "      <td id=\"T_69c00_row2_col2\" class=\"data row2 col2\" >4.6667</td>\n",
       "    </tr>\n",
       "  </tbody>\n",
       "</table>\n"
      ],
      "text/plain": [
       "<pandas.io.formats.style.Styler at 0x2b2cf38e040>"
      ]
     },
     "execution_count": 3,
     "metadata": {},
     "output_type": "execute_result"
    }
   ],
   "source": [
    "\n",
    "# b. Illustrating results\n",
    "\n",
    "# i. Changing the solution matrix from 9x1 list to 3x3 dataframe and adding alpha and sigma as rows and columns\n",
    "ser=pd.Series(result2)\n",
    "ser2=ser.values.reshape((3,3))\n",
    "df=pd.DataFrame(ser2, index=[arsigma], columns=[aralpha])\n",
    "\n",
    "# ii. Style\n",
    "s=pd.concat( #creating a dataframe with concatenated row and column titles, and saving it as \"s\"\n",
    "    [pd.concat(\n",
    "    [df],\n",
    "    keys=['alpha'], axis=1)],\n",
    "    keys=['sigma'])\n",
    "\n",
    "cm = sns.light_palette('blue', as_cmap=True) #creating and naming a color palette\n",
    "s.style.\\\n",
    "    set_caption('Table 0: values of HF/HM for certain parameter value combinations').\\\n",
    "    background_gradient(cmap=cm, axis=None).\\\n",
    "    format_index(axis=0,precision=2).\\\n",
    "    format_index(axis=1, precision=2).\\\n",
    "    format(precision=4) #styling the \"s\" dataframe with caption, background color gradient, and formatting decimals\n",
    "\n",
    "\n",
    "\n",
    "\n",
    "\n",
    "\n",
    "\n"
   ]
  },
  {
   "cell_type": "markdown",
   "metadata": {},
   "source": [
    "# Question 2"
   ]
  },
  {
   "cell_type": "markdown",
   "metadata": {},
   "source": [
    "Explain your code and procedure"
   ]
  },
  {
   "cell_type": "code",
   "execution_count": 6,
   "metadata": {},
   "outputs": [
    {
     "name": "stdout",
     "output_type": "stream",
     "text": [
      "[2.07944154 1.60943791 1.54044504 1.54044504 1.46633707]\n",
      "[-0.22314355 -0.10536052  0.          0.09531018  0.18232156]\n"
     ]
    }
   ],
   "source": [
    "\n",
    "# a. Solving the model\n",
    "\n",
    "arwF=np.array([0.8,0.9,1.0,1.1,1.2]) #array of values that wF can take for the question\n",
    "\n",
    "\n",
    "result3=[]\n",
    "for k in arwF: #solving the model with the values in the wF array and appending the resulting values of HF/HM(\"g\") to a list\n",
    "    OurModel.par.wF=k\n",
    "    temp=OurModel.solve_discrete()\n",
    "    result3.append(temp.g)\n",
    "\n",
    "result3a=np.log(result3)\n",
    "\n",
    "print(result3a)\n",
    "\n",
    "result4=[] \n",
    "for k in arwF: #solving the model with the values in the wF array and appending the resulting values of wF/wM(\"h\") to a list\n",
    "    OurModel.par.wF=k\n",
    "    temp=OurModel.solve_discrete()\n",
    "    result4.append(temp.h)\n",
    "\n",
    "result4a=np.log(result4)\n",
    "\n",
    "print(result4a)\n",
    "\n",
    "\n",
    "\n"
   ]
  },
  {
   "cell_type": "code",
   "execution_count": 56,
   "metadata": {},
   "outputs": [
    {
     "data": {
      "image/png": "[encoded data removed]",
      "text/plain": [
       "<Figure size 640x480 with 1 Axes>"
      ]
     },
     "metadata": {},
     "output_type": "display_data"
    }
   ],
   "source": [
    "# b. Illustrating the results\n",
    "\n",
    "plt.plot(result3a, result4a)\n",
    "plt.title('Figure 0 - log(wF/wM) as a function of log(HF/HM) for different values of wF')\n",
    "plt.xlabel('log(HF/HM)')\n",
    "plt.ylabel('log(wF/wM)')\n",
    "for i, txt in enumerate(arwF): #annotating the data points with the corresponding values from the wF array\n",
    "    plt.annotate(\"ω$_{F}$ = \"+ str(txt),(result3a[i],result4a[i]))\n",
    "\n",
    "plt.show()"
   ]
  },
  {
   "cell_type": "markdown",
   "metadata": {},
   "source": [
    "# Question 3"
   ]
  },
  {
   "cell_type": "markdown",
   "metadata": {},
   "source": [
    "Explain your code and procedure"
   ]
  },
  {
   "cell_type": "code",
   "execution_count": 4,
   "metadata": {},
   "outputs": [],
   "source": [
    "# code"
   ]
  },
  {
   "cell_type": "markdown",
   "metadata": {},
   "source": [
    "ADD CONCISE CONLUSION."
   ]
  }
 ],
 "metadata": {
  "kernelspec": {
   "display_name": "base",
   "language": "python",
   "name": "python3"
  },
  "language_info": {
   "codemirror_mode": {
    "name": "ipython",
    "version": 3
   },
   "file_extension": ".py",
   "mimetype": "text/x-python",
   "name": "python",
   "nbconvert_exporter": "python",
   "pygments_lexer": "ipython3",
   "version": "3.9.16"
  },
  "toc-autonumbering": true,
  "vscode": {
   "interpreter": {
    "hash": "47ef90cdf3004d3f859f1fb202523c65c07ba7c22eefd261b181f4744e2d0403"
   }
  }
 },
 "nbformat": 4,
 "nbformat_minor": 4
}
