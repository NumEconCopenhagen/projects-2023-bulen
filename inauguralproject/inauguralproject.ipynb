{
 "cells": [
  {
   "cell_type": "markdown",
   "metadata": {},
   "source": [
    "# Inaugural Project"
   ]
  },
  {
   "attachments": {},
   "cell_type": "markdown",
   "metadata": {},
   "source": [
    "> **Note the following:** \n",
    "> 1. This is an example of how to structure your **inaugural project**.\n",
    "> 1. Remember the general advice on structuring and commenting your code\n",
    "> 1. The `inauguralproject.py` file includes a function which can be used multiple times in this notebook."
   ]
  },
  {
   "cell_type": "markdown",
   "metadata": {},
   "source": [
    "Imports and set magics:"
   ]
  },
  {
   "cell_type": "code",
   "execution_count": 2,
   "metadata": {},
   "outputs": [],
   "source": [
    "import seaborn as sns\n",
    "import numpy as np\n",
    "import pandas as pd\n",
    "import ipywidgets as widgets\n",
    "import matplotlib.pyplot as plt\n",
    "import itertools\n",
    "from tabulate import tabulate\n",
    "\n",
    "# autoreload modules when code is run. Otherwise, python will not see recent changes. \n",
    "%load_ext autoreload\n",
    "%autoreload 2\n",
    "\n",
    "# Import your own code\n",
    "import inauguralproject\n",
    "from inauguralproject import HouseholdSpecializationModelClass\n"
   ]
  },
  {
   "cell_type": "markdown",
   "metadata": {},
   "source": [
    "# Question 1"
   ]
  },
  {
   "cell_type": "markdown",
   "metadata": {},
   "source": [
    "**Explain how you solve the model**"
   ]
  },
  {
   "cell_type": "code",
   "execution_count": 3,
   "metadata": {},
   "outputs": [
    {
     "name": "stdout",
     "output_type": "stream",
     "text": [
      "[0.5454545454545454, 1.0, 1.8333333333333333, 0.3076923076923077, 1.0, 3.25, 0.21428571428571427, 1.0, 4.666666666666667]\n"
     ]
    }
   ],
   "source": [
    "# a. Solving the model\n",
    "\n",
    "OurModel = HouseholdSpecializationModelClass()\n",
    "\n",
    "arsigma=np.array([0.5,1,1.5]) \n",
    "\n",
    "aralpha=np.array([0.25,0.5,0.75])\n",
    "\n",
    "result2=[]\n",
    "for k,v in itertools.product(arsigma,aralpha): #for all combinations in the two arrays\n",
    "    OurModel.par.sigma=k #values from the first array is used as sigma parameters in the model\n",
    "    OurModel.par.alpha=v #values from second array used as alpha parameters\n",
    "    temp=OurModel.solve_discrete() #naming the solution function\n",
    "    result2.append(temp.g) #appending the solutions of the variable \"g\"(HF/HM) to the empty list \"result2\"\n",
    "\n",
    "print(result2)\n",
    "\n",
    "\n",
    "\n"
   ]
  },
  {
   "cell_type": "code",
   "execution_count": 4,
   "metadata": {},
   "outputs": [
    {
     "data": {
      "text/html": [
       "<style type=\"text/css\">\n",
       "#T_f763b_row0_col0 {\n",
       "  background-color: #dedff4;\n",
       "  color: #000000;\n",
       "}\n",
       "#T_f763b_row0_col1, #T_f763b_row1_col1, #T_f763b_row2_col1 {\n",
       "  background-color: #c6c6f5;\n",
       "  color: #000000;\n",
       "}\n",
       "#T_f763b_row0_col2 {\n",
       "  background-color: #9999f7;\n",
       "  color: #f1f1f1;\n",
       "}\n",
       "#T_f763b_row1_col0 {\n",
       "  background-color: #ececf3;\n",
       "  color: #000000;\n",
       "}\n",
       "#T_f763b_row1_col2 {\n",
       "  background-color: #4c4cfb;\n",
       "  color: #f1f1f1;\n",
       "}\n",
       "#T_f763b_row2_col0 {\n",
       "  background-color: #f0f0f3;\n",
       "  color: #000000;\n",
       "}\n",
       "#T_f763b_row2_col2 {\n",
       "  background-color: #0000ff;\n",
       "  color: #f1f1f1;\n",
       "}\n",
       "</style>\n",
       "<table id=\"T_f763b\">\n",
       "  <caption>Table 0 - values of HF/HM for certain parameter value combinations</caption>\n",
       "  <thead>\n",
       "    <tr>\n",
       "      <th class=\"blank\" >&nbsp;</th>\n",
       "      <th class=\"blank level0\" >&nbsp;</th>\n",
       "      <th id=\"T_f763b_level0_col0\" class=\"col_heading level0 col0\" colspan=\"3\">alpha</th>\n",
       "    </tr>\n",
       "    <tr>\n",
       "      <th class=\"blank\" >&nbsp;</th>\n",
       "      <th class=\"blank level1\" >&nbsp;</th>\n",
       "      <th id=\"T_f763b_level1_col0\" class=\"col_heading level1 col0\" >0.25</th>\n",
       "      <th id=\"T_f763b_level1_col1\" class=\"col_heading level1 col1\" >0.50</th>\n",
       "      <th id=\"T_f763b_level1_col2\" class=\"col_heading level1 col2\" >0.75</th>\n",
       "    </tr>\n",
       "  </thead>\n",
       "  <tbody>\n",
       "    <tr>\n",
       "      <th id=\"T_f763b_level0_row0\" class=\"row_heading level0 row0\" rowspan=\"3\">sigma</th>\n",
       "      <th id=\"T_f763b_level1_row0\" class=\"row_heading level1 row0\" >0.50</th>\n",
       "      <td id=\"T_f763b_row0_col0\" class=\"data row0 col0\" >0.5455</td>\n",
       "      <td id=\"T_f763b_row0_col1\" class=\"data row0 col1\" >1.0000</td>\n",
       "      <td id=\"T_f763b_row0_col2\" class=\"data row0 col2\" >1.8333</td>\n",
       "    </tr>\n",
       "    <tr>\n",
       "      <th id=\"T_f763b_level1_row1\" class=\"row_heading level1 row1\" >1.00</th>\n",
       "      <td id=\"T_f763b_row1_col0\" class=\"data row1 col0\" >0.3077</td>\n",
       "      <td id=\"T_f763b_row1_col1\" class=\"data row1 col1\" >1.0000</td>\n",
       "      <td id=\"T_f763b_row1_col2\" class=\"data row1 col2\" >3.2500</td>\n",
       "    </tr>\n",
       "    <tr>\n",
       "      <th id=\"T_f763b_level1_row2\" class=\"row_heading level1 row2\" >1.50</th>\n",
       "      <td id=\"T_f763b_row2_col0\" class=\"data row2 col0\" >0.2143</td>\n",
       "      <td id=\"T_f763b_row2_col1\" class=\"data row2 col1\" >1.0000</td>\n",
       "      <td id=\"T_f763b_row2_col2\" class=\"data row2 col2\" >4.6667</td>\n",
       "    </tr>\n",
       "  </tbody>\n",
       "</table>\n"
      ],
      "text/plain": [
       "<pandas.io.formats.style.Styler at 0x2b4d574c130>"
      ]
     },
     "execution_count": 4,
     "metadata": {},
     "output_type": "execute_result"
    }
   ],
   "source": [
    "\n",
    "# b. Illustrating results\n",
    "\n",
    "# i. Changing the solution matrix from 9x1 list to 3x3 dataframe and adding alpha and sigma as rows and columns\n",
    "ser=pd.Series(result2)\n",
    "ser2=ser.values.reshape((3,3))\n",
    "df=pd.DataFrame(ser2, index=[arsigma], columns=[aralpha])\n",
    "\n",
    "# ii. Style\n",
    "s=pd.concat( #creating a dataframe with concatenated row and column titles, and saving it as \"s\"\n",
    "    [pd.concat(\n",
    "    [df],\n",
    "    keys=['alpha'], axis=1)],\n",
    "    keys=['sigma'])\n",
    "\n",
    "cm = sns.light_palette('blue', as_cmap=True) #creating and naming a color palette\n",
    "s.style.\\\n",
    "    set_caption('Table 0 - values of HF/HM for certain parameter value combinations').\\\n",
    "    background_gradient(cmap=cm, axis=None).\\\n",
    "    format_index(axis=0,precision=2).\\\n",
    "    format_index(axis=1, precision=2).\\\n",
    "    format(precision=4) #styling the \"s\" dataframe with caption, background color gradient, and formatting decimals\n",
    "\n",
    "\n",
    "\n",
    "\n",
    "\n",
    "\n",
    "\n"
   ]
  },
  {
   "cell_type": "markdown",
   "metadata": {},
   "source": [
    "# Question 2"
   ]
  },
  {
   "cell_type": "markdown",
   "metadata": {},
   "source": [
    "Explain your code and procedure"
   ]
  },
  {
   "cell_type": "code",
   "execution_count": 5,
   "metadata": {},
   "outputs": [
    {
     "name": "stdout",
     "output_type": "stream",
     "text": [
      "[ 0.22314355  0.          0.         -0.11778304 -0.22314355]\n",
      "[-0.22314355 -0.10536052  0.          0.09531018  0.18232156]\n"
     ]
    }
   ],
   "source": [
    "\n",
    "# a. Solving the model\n",
    "\n",
    "OurModel2 = HouseholdSpecializationModelClass()\n",
    "\n",
    "arwF=np.array([0.8,0.9,1.0,1.1,1.2]) #array of values that wF can take for the question\n",
    "\n",
    "\n",
    "result3=[]\n",
    "for k in arwF: #solving the model with the values in the wF array and appending the resulting values of HF/HM(\"g\") to a list\n",
    "    OurModel2.par.wF=k\n",
    "    temp=OurModel2.solve_discrete()\n",
    "    result3.append(temp.g)\n",
    "\n",
    "result3a=np.log(result3)\n",
    "\n",
    "print(result3a)\n",
    "\n",
    "result4=[] \n",
    "for k in arwF: #solving the model with the values in the wF array and appending the resulting values of wF/wM(\"h\") to a list\n",
    "    OurModel2.par.wF=k\n",
    "    temp=OurModel2.solve_discrete()\n",
    "    result4.append(temp.h)\n",
    "\n",
    "result4a=np.log(result4)\n",
    "\n",
    "print(result4a)\n",
    "\n",
    "\n",
    "\n"
   ]
  },
  {
   "cell_type": "code",
   "execution_count": 6,
   "metadata": {},
   "outputs": [
    {
     "data": {
      "image/png": "[encoded data removed]",
      "text/plain": [
       "<Figure size 640x480 with 1 Axes>"
      ]
     },
     "metadata": {},
     "output_type": "display_data"
    }
   ],
   "source": [
    "# b. Illustrating the results\n",
    "\n",
    "plt.plot(result4a, result3a, marker='o')\n",
    "plt.title('Figure 0 - log(HF/HM) as a function of log(wF/wM) for different values of wF')\n",
    "plt.ylabel('log(HF/HM)')\n",
    "plt.xlabel('log(wF/wM)')\n",
    "for i, txt in enumerate(arwF): #annotating the data points with the corresponding values from the wF array\n",
    "    plt.annotate(\"ω$_{F}$ = \"+ str(txt),(result4a[i],result3a[i]))\n",
    "\n",
    "plt.show()"
   ]
  },
  {
   "cell_type": "markdown",
   "metadata": {},
   "source": [
    "# Question 3"
   ]
  },
  {
   "cell_type": "markdown",
   "metadata": {},
   "source": [
    "Explain your code and procedure"
   ]
  },
  {
   "cell_type": "code",
   "execution_count": 7,
   "metadata": {},
   "outputs": [
    {
     "name": "stdout",
     "output_type": "stream",
     "text": [
      "[ 2.23143643e-01  1.05360372e-01  1.25199162e-09 -9.53102744e-02\n",
      " -1.82321545e-01]\n",
      "[-0.22314355 -0.10536052  0.          0.09531018  0.18232156]\n"
     ]
    }
   ],
   "source": [
    "# a. solving the model\n",
    "OurModel3 = HouseholdSpecializationModelClass()\n",
    "\n",
    "vect = np.linspace(0.8,1.2,5)\n",
    "\n",
    "result5=[]\n",
    "for k in arwF: #solving the model with the values in the wF array and appending the resulting values of HF/HM(\"g\") to a list\n",
    "    OurModel3.par.wF=k\n",
    "    temp=OurModel3.solve()\n",
    "    result5.append(temp.g)\n",
    "\n",
    "\n",
    "result5a=np.log(result5)\n",
    "print(result5a)\n",
    "\n",
    "\n",
    "\n",
    "result6=[]\n",
    "for k in arwF: #solving the model with the values in the wF array and appending the resulting values of wF/wM(\"h\") to a list\n",
    "    OurModel3.par.wF=k\n",
    "    temp=OurModel3.solve()\n",
    "    result6.append(temp.h)\n",
    "\n",
    "result6a=np.log(result6)\n",
    "print(result6a)"
   ]
  },
  {
   "cell_type": "code",
   "execution_count": 8,
   "metadata": {},
   "outputs": [
    {
     "data": {
      "image/png": "[encoded data removed]",
      "text/plain": [
       "<Figure size 640x480 with 1 Axes>"
      ]
     },
     "metadata": {},
     "output_type": "display_data"
    }
   ],
   "source": [
    "# b. illustrating results\n",
    "plt.plot(result6a, result5a, marker='o')\n",
    "plt.title('Figure 1 - log(HF/HM) as a function of log(wF/wM) for different values of wF')\n",
    "plt.ylabel('log(HF/HM)')\n",
    "plt.xlabel('log(wF/wM)')\n",
    "for i, txt in enumerate(arwF): #annotating the data points with the corresponding values from the wF array\n",
    "    plt.annotate(\"ω$_{F}$ = \"+ str(txt),(result6a[i],result5a[i]))\n",
    "\n",
    "plt.show()"
   ]
  },
  {
   "cell_type": "markdown",
   "metadata": {},
   "source": [
    "# Question 4"
   ]
  },
  {
   "cell_type": "code",
   "execution_count": 16,
   "metadata": {},
   "outputs": [
    {
     "name": "stdout",
     "output_type": "stream",
     "text": [
      "[0.4818263551602129, 0.4700480124728796, 0.45951198087584644, 0.4499810026037265, 0.4412798237595931]\n",
      "[36.504251405587794, 38.645907811702294, 37.647995537942954, 41.47863121961746, 37.64338369442323]\n",
      "[0.5059176392922271, 0.49355044433621925, 0.4824876269308426, 0.4724800261112964, 0.46334382321609197]\n",
      "[0.4320711965103461, 0.4197039737900531, 0.40864112156609705, 0.39863354324317707, 0.3894973900621663]\n",
      "[0.3976685398227642, 0.38500685981665383, 0.3736806212825234, 0.3634347568370713, 0.3540810155891103]\n",
      "[0.4114963852406476, 0.3997180867619613, 0.38918203895796794, 0.3796510062888638, 0.37094986810827013]\n",
      "[0.3789537478605103, 0.36746989745358377, 0.35719724862704033, 0.34790452729671, 0.3394209143568846]\n",
      "[0.3884204405650345, 0.3760532298962197, 0.3649903390213378, 0.35498281415203764, 0.3458465949296682]\n",
      "[0.40324566798913725, 0.3910256728107526, 0.38009451269986383, 0.3702060835332886, 0.36117865288886847]\n",
      "[0.3838121605132923, 0.37218107732388755, 0.3617767084347658, 0.35236486490734686, 0.3437724774618029]\n",
      "[0.3909215672112302, 0.37973218634742634, 0.3697229082286838, 0.36066848915697236, 0.3524023656799412]\n",
      "[0.38525076242413286, 0.37457669225350715, 0.3650283895990375, 0.3563909067570287, 0.3485054873619652]\n",
      "[0.4219443282226865, 0.4111229889500109, 0.4014430161140277, 0.3926863308101048, 0.3846921975722987]\n",
      "[0.46801548169449214, 0.4575990276791527, 0.44828123520827123, 0.43985222769980487, 0.432157143335024]\n",
      "[0.397506722808672, 0.38778961245960153, 0.379097382951497, 0.37123426000171045, 0.3640558595053518]\n",
      "[0.4068380662667992, 0.39815156777204835, 0.39038121608840753, 0.38335211277098963, 0.3769350006305979]\n",
      "[37.147444076243715, 36.49872114848851, 38.12064968927737, 37.7048398687898, 37.8596967062048]\n",
      "[0.39397787028825865, 0.38376389091651425, 0.3746271357672461, 0.36636193668715017, 0.35881643284159126]\n",
      "[0.37027161842079376, 0.36219242595675794, 0.3549653400417431, 0.3484276667864608, 0.342459238279841]\n",
      "[36.644081854417294, 36.75553876322607, 37.425986625346624, 38.18746101214925, 37.68202487786053]\n",
      "[0.3868634486137874, 0.377565009592682, 0.3692472784649346, 0.36172301748220376, 0.35485389758053754]\n",
      "[0.4303844080993567, 0.4229171507932492, 0.41623744824343417, 0.4101949496301963, 0.40467857261836515]\n",
      "[36.644081854417294, 36.75553876322607, 37.425986625346624, 38.18746101214925, 37.68202487786053]\n",
      "[0.505726385886664, 0.4976517775753653, 0.4904288378809798, 0.48389487625082994, 0.4779298377446253]\n",
      "[0.38692887487666733, 0.3788508124033257, 0.37162478540487015, 0.36508805043009074, 0.35912045371721873]\n",
      "[0.42673580346800244, 0.41987701869154964, 0.4137416195921211, 0.4081914857785608, 0.40312459992268634]\n",
      "[36.3127023373966, 36.40259234616078, 36.457320606973404, 37.497821146254445, 38.94192321408548]\n",
      "[37.059389410199856, 36.89064065066202, 36.57428698171412, 37.20756764011735, 37.04353550644975]\n",
      "[0.3954168533835698, 0.3877963431975505, 0.3809795265316, 0.3748130268014898, 0.3691833909162867]\n",
      "[36.62468930542672, 37.1305342954089, 37.47379851693417, 36.82642212292796, 37.240448483918286]\n",
      "[0.40585672393039596, 0.39846494184510484, 0.3918527634020338, 0.3858713333335392, 0.3804106980142202]\n",
      "[0.393209879043092, 0.38642655960962285, 0.38035870679036116, 0.37486965162033253, 0.3698585386376732]\n",
      "[0.374484717691009, 0.3680433771290996, 0.36228140051632973, 0.3570690813124772, 0.352310592534341]\n",
      "[0.45538922127572073, 0.4491389001020414, 0.4435478014929599, 0.43849003031846345, 0.4338726626559612]\n",
      "[0.4186741511615041, 0.4121384769974929, 0.4062921096273311, 0.40100340878669444, 0.396175229142356]\n",
      "[0.3813904455182136, 0.3749302215328715, 0.3691513679437311, 0.36392379479878306, 0.3591513352055455]\n",
      "[0.4126090378503952, 0.4063964442077837, 0.40083909228539005, 0.3958118549367482, 0.39122237489628514]\n",
      "[0.48955794668912644, 0.48363071195488955, 0.4783286407541771, 0.47353232410846496, 0.4691536384027138]\n",
      "[36.45723002282124, 37.991872620750144, 39.5821824339957, 36.44256063491804, 36.29014558247118]\n",
      "[0.3950256991468275, 0.38860854902139297, 0.3828682006264677, 0.3776753989313188, 0.3729347794549653]\n",
      "[0.385436084255854, 0.37934203137407235, 0.3738907256761286, 0.36895936492545184, 0.36445743096713257]\n",
      "[0.4104062769906856, 0.4045167961218528, 0.3992484808963386, 0.39448270974895233, 0.390131905200776]\n",
      "[0.4692694440127002, 0.46364381308323616, 0.4586115362946559, 0.4540592552961082, 0.4499033528189508]\n",
      "[0.474306096853445, 0.4682981090049078, 0.46292377932760237, 0.45806210590810104, 0.45362373135946704]\n",
      "[0.39627705743836206, 0.3902045444902379, 0.38477243546335854, 0.3798585271894852, 0.3753724894386895]\n",
      "[0.39115402443209824, 0.3854045742526598, 0.38026154090162917, 0.3756090943845856, 0.37136172409309887]\n",
      "[0.4178608583416619, 0.41229447762987287, 0.4073151961565637, 0.40281086929840787, 0.39869876503403734]\n",
      "[6.830373103208275, 10.773564072933015, 10.891700122986688, 11.210931048253238, 10.638779076677563]\n",
      "[0.4534950813693173, 0.44778866591449806, 0.44268411696991, 0.4380664870860553, 0.43385091821614546]\n",
      "[0.40039205002881806, 0.39465336726140815, 0.3895199527755508, 0.3848761845891464, 0.3806367896566282]\n",
      "[0.4074232472196652, 0.4020076608983669, 0.39716326887041464, 0.39278098286518914, 0.3887802691514699]\n",
      "[0.41676020341226133, 0.4115815902376306, 0.40694914345382005, 0.4027585957700009, 0.3989329166192146]\n",
      "[10.444122512790692, 10.773644425248108, 10.89190325906515, 11.210875621515545, 10.638679247529524]\n",
      "[0.4041219119438209, 0.3985663004408471, 0.3935966697340283, 0.3891010706081683, 0.3849969251202841]\n",
      "[0.3953751349143536, 0.3902073025137533, 0.3855845050502855, 0.38140267529690464, 0.3775849703150574]\n",
      "[0.475570668450613, 0.4707797673810445, 0.4664941845597755, 0.46261739502624666, 0.45907816889864644]\n",
      "[0.40265750107535686, 0.3972930904215578, 0.39249447287796735, 0.38815357198468664, 0.38419065830547405]\n",
      "[0.41580510868534676, 0.4108230432517409, 0.4063664400599812, 0.4023349509769634, 0.39865449496586375]\n",
      "[0.47557066430670647, 0.4707797698391402, 0.4664941776592161, 0.46261739805633106, 0.45907816416531927]\n",
      "[0.49631019638524143, 0.49131738445104, 0.4868511370707056, 0.48281094518424167, 0.4791225172905877]\n",
      "[0.4035779981648975, 0.3984538982178051, 0.39387024088805817, 0.3897238430970151, 0.38593842555990754]\n",
      "[0.39969242716718706, 0.3947648978723033, 0.3903570652505334, 0.38636970854736497, 0.382729529873753]\n",
      "[0.3911291689329815, 0.3863271969081299, 0.38203166571309327, 0.3781458987815507, 0.37459847855546474]\n",
      "[0.41421966907550556, 0.40955972977623556, 0.4053912799033259, 0.40162045698092785, 0.39817794389888256]\n",
      "[10.444122512790692, 10.773644425248108, 10.89190325906515, 11.210875621515545, 10.638679247529524]\n",
      "[0.38264052620500494, 0.3781606732488592, 0.37415329472782005, 0.3705281863025593, 0.3672187190021229]\n",
      "[0.46871741262048483, 0.46437957592896867, 0.4604992696147442, 0.45698910717330277, 0.453784551151539]\n",
      "[0.3925500151350981, 0.38786407416159907, 0.3836723663741555, 0.37988048007894915, 0.376418789223709]\n",
      "[0.4105523015144218, 0.40609842019998976, 0.4021143074732092, 0.39851023228485316, 0.3952199878317863]\n",
      "[0.46871741262048483, 0.46437957592896867, 0.4604992696147442, 0.45698910717330277, 0.453784551151539]\n",
      "[0.4809592923550463, 0.47632535517870656, 0.47218015130664615, 0.46843034976870507, 0.46500706323973745]\n",
      "[0.39552648951501174, 0.3910080973345905, 0.3869662575389127, 0.38330998582667514, 0.3799720752527424]\n",
      "[0.38920631360421326, 0.38489400588140615, 0.3810365326146917, 0.3775470111786551, 0.37436131297603403]\n",
      "[0.4146710383146836, 0.41042324137761965, 0.40662347474469296, 0.4031861602926756, 0.400048138854686]\n",
      "[10.444103965160087, 10.77370586327365, 10.891938985750327, 11.210890662952096, 10.63867926389823]\n",
      "[0.453061596730236, 0.44867226820601414, 0.4447458590244209, 0.44119398016782624, 0.43795142363598255]\n",
      "[0.3989538783984891, 0.3946223010010248, 0.39074760317689106, 0.3872424813616368, 0.384042573883112]\n",
      "[0.4021468759431691, 0.39802140024946225, 0.39433101231120543, 0.3909926677943473, 0.38794498610898026]\n",
      "[0.40524783851950186, 0.4012865528977657, 0.39774302446408794, 0.39453755761891784, 0.3916111825209602]\n",
      "[10.444122512790692, 10.773644425248108, 10.89190325906515, 11.210875621515545, 10.638679247529524]\n",
      "[0.4009792056713919, 0.3967611461130473, 0.3929879630693417, 0.3895747216265573, 0.38645865584749156]\n",
      "[0.3863051390752339, 0.38237358225735507, 0.3788566534165606, 0.3756752537297235, 0.3727708208611428]\n",
      "[0.41744830604314936, 0.41377350210498387, 0.4104862746245408, 0.4075126165731709, 0.4047978799777209]\n",
      "[10.444120005666123, 10.773675525131967, 10.891945695800446, 11.210881304820036, 10.638679324991298]\n",
      "[10.44409910723199, 10.773564072933015, 10.891582526153679, 11.210958459115753, 10.638776131338558]\n",
      "[0.3926365239968853, 0.38876170477882666, 0.38529556364024914, 0.3821600682099715, 0.37929758062014945]\n",
      "[0.44685800623005023, 0.44309671010983026, 0.43973211049258953, 0.43668847549489437, 0.4339098344219331]\n",
      "[0.3977945361412266, 0.3939481055366723, 0.39050736178256623, 0.3873948302608338, 0.3845532927306495]\n",
      "[0.42338610715399455, 0.41982618032792324, 0.41664171595083516, 0.4137609947037325, 0.4111311099345361]\n",
      "[10.444103656263907, 10.773705803033824, 10.89198701698725, 11.21091589334829, 10.638679233212471]\n",
      "[10.444088896990538, 10.773564072933015, 10.891582526153679, 11.210906192976802, 10.638779076677563]\n",
      "[0.40132160784683524, 0.3975897027738459, 0.3942514084576255, 0.39123154557421636, 0.3884746367290762]\n",
      "[10.444146889440825, 10.773714185100017, 10.891712665023075, 11.21077254805245, 10.638722631995535]\n",
      "[0.4068397741216834, 0.4031651306164697, 0.3998780562533854, 0.39690453477701065, 0.3941899172704088]\n",
      "[0.40632485427141585, 0.4027650697719457, 0.39958073709007436, 0.39670018534540114, 0.3940704134265134]\n",
      "[0.4007641902238498, 0.3972619403912676, 0.39412907107475403, 0.3912950389569604, 0.38870778157004093]\n",
      "[0.3932188948467038, 0.3896019290080405, 0.3863664738237127, 0.38343962359603784, 0.3807676198515752]\n",
      "[0.4111493577739451, 0.40757514761394437, 0.4043779303935118, 0.4014856830457453, 0.3988452717630373]\n",
      "[0.4170175230734516, 0.41361573342163765, 0.4105727059437291, 0.40781995254389153, 0.4053068942680714]\n",
      "[10.44410361730489, 10.77365964264351, 10.891987131197395, 11.210915904439089, 10.6387723817582]\n",
      "[0.4035431112151013, 0.4002132427471697, 0.39723457828966185, 0.394540055743487, 0.3920801083445505]\n",
      "[0.4094432896134315, 0.4062355779588522, 0.4033661821716494, 0.4007705026596624, 0.3984008259623813]\n",
      "[10.44410361730489, 10.77365964264351, 10.891987131197395, 11.210915904439089, 10.6387723817582]\n",
      "[0.40198445512965814, 0.39858094381684467, 0.395536411085451, 0.39278229336284526, 0.3902679658560542]\n",
      "[0.38744196831800776, 0.384232557914551, 0.381361646935262, 0.37876459650561717, 0.3763936685017647]\n",
      "[0.42771542198657114, 0.4247018092817426, 0.42200605006750164, 0.41956743677644837, 0.41734115900193136]\n",
      "[10.4441035863273, 10.773705854321063, 10.89198717845391, 11.210915858696584, 10.638679327924228]\n",
      "[0.3938272576614381, 0.39066723232568074, 0.3878404769518, 0.38528338284411245, 0.3829489357595408]\n",
      "[0.40515984094689567, 0.40180571923797015, 0.39880533820431724, 0.39609117673233213, 0.39361332411139405]\n",
      "[0.4049333938491358, 0.4018346644101242, 0.3990627547272498, 0.396555241288412, 0.3942660781201095]\n",
      "[0.4362933654553784, 0.43314695747925475, 0.4303323945777663, 0.4277863178309469, 0.42546192092102036]\n",
      "[0.39945516037006756, 0.39629854097890704, 0.39347484191073334, 0.3909204890258859, 0.3885885548626988]\n",
      "[0.3935953600988266, 0.3905477040332692, 0.3878214771664087, 0.38535531942552215, 0.383103877889658]\n",
      "[0.404936667844727, 0.40194689192456345, 0.3992724627087499, 0.3968531414000059, 0.3946444725357824]\n",
      "[0.457773329038613, 0.45486698408268067, 0.4522671763062929, 0.4499153644393026, 0.44776832293715935]\n",
      "[0.42282181199062796, 0.4197809603325393, 0.4170608222811493, 0.41460018029785384, 0.41235376885351704]\n",
      "[0.39825983865773895, 0.39521388827547616, 0.3924891901812614, 0.39002439373254, 0.38777421581260796]\n",
      "[0.3981674176297379, 0.39523043421038695, 0.3926032131626339, 0.39022660178306584, 0.38805692183365337]\n",
      "[0.39917955068110017, 0.3963234483389739, 0.3937685526067135, 0.3914574023910529, 0.38934746847287294]\n",
      "[10.44410365871137, 10.773705863982912, 10.892010098841459, 11.210915840630497, 10.638679325929568]\n",
      "[0.3981793640202424, 0.39519491588437944, 0.3925252473701149, 0.39011022409123247, 0.3879054962141332]\n",
      "[0.41434100719108324, 0.41147956710140615, 0.40891994099620543, 0.4066044684900604, 0.4044906036804115]\n",
      "[10.44410361730489, 10.77365964264351, 10.891987131197395, 11.210915904439089, 10.6387723817582]\n",
      "[0.40376837154191764, 0.4008441023558874, 0.3982282546409307, 0.39586193771792855, 0.3937016452630196]\n",
      "[0.41651861451528926, 0.41372534458249444, 0.4112266801962146, 0.40896636328773966, 0.4069028540627429]\n",
      "[10.4441468593307, 10.7737142345177, 10.891712563866024, 11.210875633883306, 10.638722756348985]\n",
      "[0.39553511828722704, 0.3927471679282658, 0.39025326950527944, 0.38799725220064135, 0.3859376775516282]\n",
      "[0.3871418041013625, 0.3843906040703561, 0.3819295656421753, 0.3797032819120471, 0.37767085072229933]\n",
      "[0.43144873133489914, 0.4287236087370814, 0.4262859178913605, 0.42408074549055047, 0.4220676055008853]\n",
      "[0.40061692185541103, 0.397793571691082, 0.3952679916884314, 0.39298332481736387, 0.39089757694957766]\n",
      "[0.3889897981336423, 0.38617176509676504, 0.3836509408592994, 0.3813705877860651, 0.37928877909341263]\n",
      "[0.4052263177276821, 0.40242686686875195, 0.3999226607433811, 0.3976573405035341, 0.39558925031844816]\n",
      "[0.4000211169495249, 0.3972570636688741, 0.39478454547605013, 0.3925478686338382, 0.3905059460106801]\n",
      "[0.40084389442405904, 0.39810949512000415, 0.39566350662485184, 0.3934508325259313, 0.3914308029976188]\n",
      "[0.41875322472796134, 0.4160073245108991, 0.41355101389679716, 0.4113290342652859, 0.4093005003314221]\n",
      "[0.39868063381426905, 0.39590318657981555, 0.39341868807259867, 0.3911711819504308, 0.38911937276722564]\n",
      "[0.3936075876734873, 0.3908952156414808, 0.3884689194651764, 0.3862740681446818, 0.3842703050641592]\n",
      "[0.3975922646599054, 0.39492293853488514, 0.3925351262204754, 0.39037510227587435, 0.38840316308740247]\n",
      "[0.4026190741880734, 0.4000037908795053, 0.39766433700624576, 0.39554806141089455, 0.3936160448140672]\n",
      "[0.41948212070770263, 0.41684481518485056, 0.4144856626880801, 0.41235155929712736, 0.4104032712288622]\n",
      "[10.444119500691139, 10.773557384829582, 10.891944610121305, 11.210922140725048, 10.638761955092336]\n",
      "[0.4022825092419405, 0.3996021645150428, 0.3972045161985109, 0.39503557237576314, 0.3930554941057501]\n",
      "[0.39328503441302387, 0.39062671623756406, 0.3882487602339247, 0.3860976437117396, 0.38413383278201785]\n",
      "[0.39704561857570575, 0.3943925573263764, 0.3920192973712447, 0.38987243558653295, 0.3879125076790657]\n",
      "[0.39668733849931914, 0.3940993413525046, 0.3917842899430271, 0.3896900832810616, 0.38777820766651505]\n",
      "[0.411185070957381, 0.40863486201825305, 0.40635361155589006, 0.4042899764877235, 0.40240602987762303]\n",
      "[10.444103965160087, 10.77370586327365, 10.891938985750327, 11.210890662952096, 10.63867926389823]\n",
      "[0.4202898290878643, 0.41771233465031227, 0.41540669664444396, 0.4133209916264381, 0.4114168886710276]\n",
      "[0.40040141054658446, 0.39781602893922885, 0.39550333293012113, 0.3934112425834961, 0.39150132782070624]\n",
      "[0.41232018074339444, 0.40979987728371464, 0.4075453732818614, 0.40550592840503014, 0.40364408181066397]\n",
      "[10.444103634666348, 10.77365964264351, 10.891987131197395, 11.210915904439089, 10.6387723817582]\n",
      "[10.444102725625028, 10.773606210549715, 10.891402911942102, 11.210882603733184, 10.638798250345344]\n",
      "[0.40403997215775217, 0.40147964845648326, 0.3991893690645256, 0.3971175571419474, 0.39522613921453853]\n",
      "[0.4031251837321435, 0.40059476789447546, 0.39833123610834803, 0.39628362760948704, 0.39441432067622606]\n",
      "[0.3994818068988066, 0.39696129756525417, 0.3947066200636366, 0.3926670166430556, 0.3908050161857309]\n",
      "[0.415613123070556, 0.4131227156833058, 0.4108949587429998, 0.40887972740321576, 0.40703994783834124]\n",
      "[0.4102080607669971, 0.4077001794950726, 0.40545679470966695, 0.4034274197020775, 0.40157473682632155]\n",
      "[0.4010975011185936, 0.3985795021786695, 0.3963270960897135, 0.39428953630860136, 0.3924293846053223]\n",
      "[0.40809701838473034, 0.40560155694159894, 0.40336929068528543, 0.4013499704802756, 0.399506460244505]\n",
      "[0.4134242247578627, 0.4109462422427021, 0.40872961489414245, 0.40672443404912473, 0.404893848193344]\n",
      "[0.4287196117842073, 0.42623425874791443, 0.4240110363445577, 0.42199988919309184, 0.42016384391678224]\n",
      "[0.404479026326584, 0.40196920247602336, 0.39972407473115174, 0.3976931215146364, 0.3958390031586923]\n",
      "[0.40241724123491934, 0.39991983852521995, 0.39768583193158225, 0.3956649368282874, 0.39382000149841034]\n",
      "[0.39908842149781076, 0.3965962569721803, 0.3943669480208833, 0.39235028885688195, 0.39050922254274645]\n",
      "[0.40598704180805656, 0.40350401564619715, 0.40128286658377066, 0.39927360004179724, 0.3974392714443549]\n",
      "[0.4074316208645596, 0.4049619985962085, 0.4027528392088925, 0.40075440626699477, 0.39892998579697253]\n",
      "[0.4008816606396723, 0.39841007481244367, 0.3961991734274989, 0.39419917432675494, 0.3923733200008936]\n",
      "[0.4074138982849719, 0.40497008354000463, 0.4027840323025076, 0.4008064930500197, 0.3990011538563096]\n",
      "[0.41576472332707765, 0.4133477150463919, 0.41118562696275734, 0.40922976973620434, 0.4074442379340644]\n",
      "[0.42046026105744216, 0.41801841060371475, 0.41583408850109377, 0.4138581318152021, 0.4120542232946399]\n",
      "[0.40364912329918046, 0.40118497159884453, 0.3989807336442794, 0.39698671588282075, 0.3951663491487279]\n",
      "[0.40305698514783256, 0.40061866591789436, 0.3984375117992768, 0.3964644237780929, 0.39466313530678754]\n",
      "[0.4008736002904236, 0.3984509327276071, 0.3962837778331813, 0.39432335503330657, 0.39253363046406164]\n",
      "[0.40636323260133667, 0.4039609009717397, 0.40181195209457093, 0.39986798623014436, 0.3980932880818484]\n",
      "[0.412751505498637, 0.41038008298068307, 0.40825878653797537, 0.4063398334089004, 0.4045879714614425]\n",
      "[0.3989246208874094, 0.3965434347041747, 0.3944133838011148, 0.3924865236057052, 0.39072744536527254]\n",
      "[0.3947159290230766, 0.3923660467835545, 0.39026401385029896, 0.38836249085949304, 0.38662653372156824]\n",
      "[0.40397104696093444, 0.4016415136226623, 0.39955766787300473, 0.3976726067813375, 0.3959516744917766]\n",
      "[0.42477222269758497, 0.42248926549483085, 0.4204470762561762, 0.4185996916955623, 0.4169131644224959]\n",
      "[0.39061644468928225, 0.38833936495595317, 0.38630243376611306, 0.38445980777866345, 0.38277762688988404]\n",
      "[0.4115366784816515, 0.40927992841833405, 0.4072611971790107, 0.4054350377343425, 0.4037678841924666]\n",
      "[10.444103656263907, 10.773705839647572, 10.891987126526892, 11.210915939746343, 10.638679309257267]\n",
      "[0.44516362019445566, 0.4428544424962684, 0.44078880047734603, 0.4389201982479339, 0.43721429557888813]\n",
      "[0.39705164416421257, 0.3947665234089007, 0.39272242512171474, 0.39087330405014975, 0.3891851880157824]\n",
      "[0.40570033525912835, 0.40348801222800185, 0.4015090182633746, 0.39971880389514897, 0.39808446215257176]\n",
      "[10.44414691483451, 10.77371417751947, 10.891712635956557, 11.210875621515545, 10.638722729721307]\n",
      "[10.444103965160087, 10.77370586327365, 10.891939074640057, 11.210890795907746, 10.63867926389823]\n",
      "[0.40030651922423066, 0.3980466866559874, 0.396025208826745, 0.39419654183793246, 0.3925271310744308]\n",
      "[0.3936300361605585, 0.3914146273499739, 0.38943287827832535, 0.38764017799854605, 0.3860035574622727]\n",
      "[0.39758245891715216, 0.3953567295611738, 0.39336572268556724, 0.39156465620256453, 0.3899204119301811]\n",
      "[0.4070082764836261, 0.4048300329570265, 0.40288153628186985, 0.40111890230213204, 0.39950974040565074]\n",
      "[10.444146952304463, 10.773714191826219, 10.891712653959976, 11.210772580378588, 10.638722648302142]\n",
      "[10.44409910723199, 10.773564072933015, 10.891582526153679, 11.21090779669678, 10.63877869971597]\n",
      "[0.4005703322900899, 0.3983598332711475, 0.3963824610079793, 0.39459371405417415, 0.39296071588890574]\n",
      "[0.4180232786416149, 0.41584321837127114, 0.41389309246849176, 0.4121289913983283, 0.4105184953724192]\n",
      "[0.4028505872098133, 0.4006476932916022, 0.3986771323164505, 0.3968945423619449, 0.39526717382098886]\n",
      "[0.403610220155656, 0.4014414046465133, 0.39950134420832506, 0.39774634202874387, 0.396144154210505]\n",
      "[0.40336789166348985, 0.4012208344097189, 0.39930022440403745, 0.39756283992507147, 0.3959767095460509]\n",
      "[0.4189333293805618, 0.416810935320533, 0.41491239233811106, 0.4131949335549049, 0.4116270364673448]\n",
      "[0.4034161861498618, 0.4012334174994024, 0.39928086235027305, 0.39751456085931014, 0.3959020469554219]\n",
      "[0.4091385889191908, 0.4069960728392083, 0.4050795168352288, 0.4033457875553448, 0.40176303665325086]\n",
      "[0.4068155894521995, 0.40470424590231313, 0.4028155992819736, 0.4011071037907743, 0.39954736856103407]\n",
      "[0.4123706807976478, 0.4102928059367779, 0.40843408249507696, 0.4067526488769523, 0.40521764164734736]\n",
      "[0.40047739367995716, 0.398394980159153, 0.39653219272046786, 0.39484709606860663, 0.3933087358301754]\n",
      "[0.39627145148772125, 0.39421908048767607, 0.3923831889238146, 0.3907224068164485, 0.3892062417225097]\n",
      "[10.444119517973547, 10.773557340438641, 10.89194439666889, 11.210922093669023, 10.63876186061707]\n",
      "[0.4018668417833599, 0.3997607519892268, 0.39787678710590213, 0.3961725457451115, 0.39461668417206264]\n",
      "[0.3915769238078376, 0.3894963491196637, 0.38763522732466044, 0.38595162655570214, 0.38441461424984813]\n",
      "[0.4043633165075256, 0.4022847584701419, 0.4004254278852471, 0.39874346031302066, 0.3972079345584383]\n",
      "[0.4016856820395323, 0.39966085293679066, 0.3978495836358472, 0.3962110912910052, 0.39471526341246604]\n",
      "[0.41502556858733264, 0.4130413609565915, 0.41126643194121376, 0.40966081570268126, 0.40819500720197044]\n",
      "[0.41296690832877425, 0.41091588726817235, 0.40908118832684415, 0.407421499494937, 0.4059063208516592]\n",
      "[0.39915270597860997, 0.39710067660926746, 0.39526507380354353, 0.39360456817220346, 0.39208865028663126]\n",
      "[0.3963467465883764, 0.39434843977124334, 0.39256090580323244, 0.3909438719904769, 0.38946764062075]\n",
      "[0.39390408962970463, 0.39194590807425167, 0.39019426475388314, 0.3886097036745679, 0.3871631134549679]\n",
      "[0.41477321925514593, 0.4128422419481151, 0.4111149238841976, 0.40955237071791056, 0.40812588262700594]\n",
      "[10.444103841916284, 10.773757634301477, 10.89139172845349, 11.210387313573534, 10.638752858080995]\n",
      "[10.4441468593307, 10.773714290319905, 10.891712645933078, 11.210875530135562, 10.6387227224487]\n",
      "[0.39934620613264243, 0.3973615068111499, 0.39558612038071367, 0.3939801026797577, 0.3925139050493517]\n",
      "[0.42099903437936814, 0.4190415293496099, 0.4172904756737803, 0.4157064582236427, 0.41426037350391465]\n",
      "[0.3976095355956252, 0.3956515321723899, 0.3939000289444552, 0.3923156076036521, 0.3908691533929688]\n",
      "[0.46748971075951873, 0.465585430478991, 0.46388198988034013, 0.46234104083683897, 0.46093426614874167]\n",
      "[0.4000691516900513, 0.39810455370199355, 0.39634715074534543, 0.3947574069259985, 0.393306075520439]\n",
      "[0.39562575131411654, 0.3936341227868308, 0.39185255566836796, 0.39024091472320654, 0.3887696182526025]\n",
      "[0.40338546024540706, 0.4014393174265449, 0.3996984343209223, 0.39812360805862007, 0.3966859192726632]\n",
      "[0.40662234911751655, 0.40466961453058475, 0.4029228374832266, 0.40134267726828754, 0.39990011669427156]\n",
      "[0.4177579044721816, 0.4158236390237234, 0.4140933643148145, 0.41252815050859437, 0.4110992123835356]\n",
      "[0.4020582045377808, 0.4001011883824722, 0.39835057792023265, 0.3967669589380417, 0.395321228013757]\n",
      "0.9999999999687899\n",
      "0.016523102196413484\n"
     ]
    }
   ],
   "source": [
    "\n",
    "OurModel4 = HouseholdSpecializationModelClass()\n",
    "\n",
    "temp1=OurModel4.estimate()\n",
    "\n",
    "print(temp1.alpha)\n",
    "print(temp1.sigma)\n",
    "\n",
    "\n",
    "\n"
   ]
  },
  {
   "cell_type": "code",
   "execution_count": 18,
   "metadata": {},
   "outputs": [
    {
     "name": "stdout",
     "output_type": "stream",
     "text": [
      "[10.44410361730489, 10.77365964264351, 10.891987131197395, 11.210915904439089, 10.6387723817582]\n",
      "108.8062194731263\n"
     ]
    }
   ],
   "source": [
    "print(OurModel4.deviation(0.9999999999687899, 0.016523102196413484))\n"
   ]
  },
  {
   "cell_type": "code",
   "execution_count": null,
   "metadata": {},
   "outputs": [],
   "source": [
    "# a. plot\n",
    "fig = plt.figure()\n",
    "ax = fig.add_subplot(1,1,1,projection='3d')\n",
    "ax.plot_surface(x1_grid,x2_grid,u_grid,cmap=cm.jet)\n",
    "\n",
    "# b. add labels\n",
    "ax.set_xlabel('$alpha$')\n",
    "ax.set_ylabel('$sigma$')\n",
    "ax.set_zlabel('$errors$')\n",
    "\n",
    "# c. invert xaxis\n",
    "ax.invert_xaxis()"
   ]
  },
  {
   "cell_type": "markdown",
   "metadata": {},
   "source": [
    "ADD CONCISE CONLUSION."
   ]
  }
 ],
 "metadata": {
  "kernelspec": {
   "display_name": "base",
   "language": "python",
   "name": "python3"
  },
  "language_info": {
   "codemirror_mode": {
    "name": "ipython",
    "version": 3
   },
   "file_extension": ".py",
   "mimetype": "text/x-python",
   "name": "python",
   "nbconvert_exporter": "python",
   "pygments_lexer": "ipython3",
   "version": "3.9.16"
  },
  "toc-autonumbering": true,
  "vscode": {
   "interpreter": {
    "hash": "47ef90cdf3004d3f859f1fb202523c65c07ba7c22eefd261b181f4744e2d0403"
   }
  }
 },
 "nbformat": 4,
 "nbformat_minor": 4
}
